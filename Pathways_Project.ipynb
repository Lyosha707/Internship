{
 "cells": [
  {
   "cell_type": "code",
   "execution_count": 1,
   "id": "d99413eb-dff0-4dac-90f5-a823c71ab335",
   "metadata": {},
   "outputs": [],
   "source": [
    "import meshcat\n",
    "import meshcat.geometry as geom\n",
    "import meshcat.transformations as tf\n",
    "import numpy as np\n",
    "import time\n",
    "import jax.numpy as jnp\n",
    "import jax\n",
    "from jaxlie import SE2, SE3\n",
    "import matplotlib.pyplot as plt\n",
    "import math"
   ]
  },
  {
   "cell_type": "code",
   "execution_count": 2,
   "id": "be0679fe-d298-4ce5-9107-d18e00c53da5",
   "metadata": {},
   "outputs": [],
   "source": [
    "########################################## Parameters ##########################################\n",
    "_m1 = 0.1 #mass\n",
    "_m2 = 0.1\n",
    "_m3 = 0.1\n",
    "\n",
    "_l1 = 5 #lenght\n",
    "_l2 = 0.1\n",
    "_l3 = 0.1\n",
    "\n",
    "dt = 1e-3 #time step\n",
    "_g = 9.81 #gravity\n",
    "\n",
    "q = 0.35 #rads\n",
    "q_dot = 0 #rads/s\n",
    "T1 = 0\n",
    "\n",
    "q1 = 0\n",
    "q_dot = 0\n",
    "T2 = 1\n"
   ]
  },
  {
   "cell_type": "code",
   "execution_count": 3,
   "id": "d2e17cd0-be62-4c33-85ce-d95d73f8afce",
   "metadata": {},
   "outputs": [],
   "source": [
    "def lagrange(q, q_dot):\n",
    "    \"\"\"\n",
    "    get q_ddot for euler\n",
    "    \"\"\"\n",
    "\n",
    "    L1 = ((1/8) * _m1 * (_l1**2) * (q_dot**2)) - ((1/2) * _m1 *_g * _l1 * math.cos(q))\n",
    "    \n",
    "    q_ddot = ((4 * L1) / (_m1 * (_l1**2)) - (2 * (_g / _l1) * math.sin(q)) )\n",
    "\n",
    "    return q_ddot\n",
    "\n",
    "def euler(dt, q, q_dot, q_ddot):\n",
    "    q_dot += (q_ddot * dt)\n",
    "    q += (q_dot * dt)\n",
    "\n",
    "    return q, q_dot\n"
   ]
  },
  {
   "cell_type": "code",
   "execution_count": 4,
   "id": "4dde158f-f637-401a-823b-26ef1c2b3d16",
   "metadata": {},
   "outputs": [
    {
     "name": "stdout",
     "output_type": "stream",
     "text": [
      "You can open the visualizer by visiting the following URL:\n",
      "http://127.0.0.1:7001/static/\n"
     ]
    },
    {
     "data": {
      "text/html": [
       "\n",
       "            <div style=\"height: 400px; width: 100%; overflow-x: auto; overflow-y: hidden; resize: both\">\n",
       "            <iframe src=\"http://127.0.0.1:7001/static/\" style=\"width: 100%; height: 100%; border: none\"></iframe>\n",
       "            </div>\n",
       "            "
      ],
      "text/plain": [
       "<IPython.core.display.HTML object>"
      ]
     },
     "execution_count": 4,
     "metadata": {},
     "output_type": "execute_result"
    }
   ],
   "source": [
    "vis = meshcat.Visualizer()\n",
    "vis.jupyter_cell()"
   ]
  },
  {
   "cell_type": "code",
   "execution_count": 5,
   "id": "3f04c426-42eb-4b84-8ea8-f7760fed78e8",
   "metadata": {},
   "outputs": [],
   "source": [
    "\n",
    "vis[\"base_pivot\"].set_object(geom.Sphere(0.01))\n",
    "link = vis[\"pendulum_link\"]\n",
    "link.set_object(geom.Box([0.01, 0.01, _l1]))\n",
    "link.set_transform(tf.translation_matrix([0.0,0.0, (_l1/2)]))"
   ]
  },
  {
   "cell_type": "code",
   "execution_count": null,
   "id": "5dd0f025-1970-48ec-82a2-0f9de1237068",
   "metadata": {},
   "outputs": [],
   "source": [
    "###### DO NOT RUN THIS #############################\n",
    "\n",
    "#obj = vis[\"obj\"]\n",
    "\n",
    "#pivot_0 = obj[\"pivot_0\"]\n",
    "#link1 = pivot_0[\"link1\"]\n",
    "\n",
    "#pivot_1 = obj[\"pivot_1\"]\n",
    "#link2 = pivot_1[\"link2\"]\n",
    "\n",
    "#pivot_2 = obj[\"pivot_2\"]\n",
    "#link3 = pivot_2[\"link3\"]\n",
    "\n",
    "#link1.set_object(geom.Box([0.01, 0.01, 0.3]))\n",
    "#link2.set_object(geom.Box([0.01, 0.01, 0.3]))\n",
    "#link3.set_object(geom.Box([0.01, 0.01, 0.3]))\n",
    "\n",
    "#link1.set_transform(tf.translation_matrix([0.0,0.0,0]))\n",
    "#link2.set_transform(tf.translation_matrix([0.0,0.0,0.3]))\n",
    "#link3.set_transform(tf.translation_matrix([0.0, 0.0, 0.6]))\n",
    "\n"
   ]
  },
  {
   "cell_type": "code",
   "execution_count": null,
   "id": "921480fe-8ae8-4e22-9151-47c70be3f7ec",
   "metadata": {},
   "outputs": [],
   "source": [
    "for t in range(1000):\n",
    "    q_ddot = lagrange(q, q_dot)\n",
    "    q, q_dot = euler(dt, q, q_dot, q_ddot) \n",
    "    \n",
    "    rotation = tf.rotation_matrix(q, [0, 1, 0])\n",
    "    translation = tf.translation_matrix([0.0, 0.0, (_l1 / 2)])\n",
    "    final_transform = np.dot(rotation, translation)\n",
    "\n",
    "    vis[\"pendulum_link\"].set_transform(final_transform)\n",
    "\n",
    "    time.sleep(dt)"
   ]
  }
 ],
 "metadata": {
  "kernelspec": {
   "display_name": "Python 3 (ipykernel)",
   "language": "python",
   "name": "python3"
  },
  "language_info": {
   "codemirror_mode": {
    "name": "ipython",
    "version": 3
   },
   "file_extension": ".py",
   "mimetype": "text/x-python",
   "name": "python",
   "nbconvert_exporter": "python",
   "pygments_lexer": "ipython3",
   "version": "3.13.5"
  }
 },
 "nbformat": 4,
 "nbformat_minor": 5
}
