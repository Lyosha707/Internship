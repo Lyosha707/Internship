{
 "cells": [
  {
   "cell_type": "markdown",
   "id": "061b28b5",
   "metadata": {},
   "source": [
    "***3-Link Open Chain - Block System Simulator***\n",
    "\n",
    "Here, we will put together all of your coding and math skills to simulate a 3 link open chain 'finger' that makes contact with a cube.\n",
    "\n",
    "Assumptions:\n",
    "- The center of mass of each finger link with mass $m_l$ is located at the **joints**, NOT at the center of geometry of each link.\n",
    "- The cube has uniform density, with overall mass $m_b$\n",
    "- The cube is constrained to a single (translational) degree of freedom of motion along the world frame x-axis (left and right). This means that the block can't rotate or move up and down.\n",
    "- Self-collisions between the links of the robot are **not** considered\n",
    "- Collisions between the block and the end effector are the only contacts considered (other joints will 'phase' through the block and the ground)"
   ]
  },
  {
   "cell_type": "code",
   "execution_count": 1,
   "id": "2ce68358",
   "metadata": {},
   "outputs": [],
   "source": [
    "try:\n",
    "    import numpy as np \n",
    "    import jax.numpy as jnp\n",
    "    import jax\n",
    "    from jax import jit, vmap, jacfwd\n",
    "    import matplotlib.pyplot as plt \n",
    "    from tqdm import tqdm\n",
    "\n",
    "    # local\n",
    "    from animation_matplotlib import animate\n",
    "    from samplers.predictive_sampler import ContactAwarePredictiveSampler as CAPS\n",
    "except:\n",
    "    raise Exception('not all packages installed in environment :-(')"
   ]
  },
  {
   "cell_type": "markdown",
   "id": "37d35f24",
   "metadata": {},
   "source": [
    "**Step 0** Define the physics parameters of the system"
   ]
  },
  {
   "cell_type": "code",
   "execution_count": 2,
   "id": "ff9aeb2d",
   "metadata": {},
   "outputs": [],
   "source": [
    "dt              = 0.001                                                                             # step size, seconds\n",
    "l_links         = jnp.array([0.25, 0.25, 0.25])                                                     # meters\n",
    "m_links         = jnp.array([0.10, 0.10, 0.10])                                                     # kilograms\n",
    "I_links         = jnp.array([(1.0/12.0)*m_links[i]*(l_links[i]**2+0.001**2) for i in range(3)])     # kg m^2\n",
    "l_block         = 0.1                                                                               # meters\n",
    "m_block         = 0.25                                                                              # kilograms\n",
    "I_block         = 2.0/12.0 * m_block * l_block**2.0                                                 # kg m^2\n",
    "g               = 9.81                                                                              # m/s^2\n",
    "q_init          = jnp.array([-0.0521448,  jnp.pi/4.0, jnp.pi/4.0])                                  # initial condition joint angles\n",
    "qdot_init       = jnp.array([0.0]*3)                                                                # initial condition joint velocities\n",
    "qblock_init     = jnp.array([0.5,l_block/2.0,0.0])                                                  # initial condition of block position (x-dir,y-dir,rotation)\n",
    "qblockdot_init  = jnp.array([0.0,0.0,0.0])                                                          # initial condition of block velocity (x-dir,y-dir,rotation)\n",
    "\n",
    "# goal states for tasks\n",
    "xblock_goal     = jnp.array([0.75, l_block/2.0, 0.0, 0.0, 0.0, 0.0])                                # full goal state of the block\n",
    "x_op_space_goal = jnp.array([0.4,0.2])                                                              # end eff goal state for op space ctrl\n",
    "\n",
    "# joint constraints, torque constraints\n",
    "q_min, q_max = [-jnp.pi/4.0,-jnp.pi/2.0,-jnp.pi/2.0], [jnp.pi/4.0,jnp.pi/2.0,jnp.pi/2.0]            # joint position limits on robot, rad\n",
    "qdot_min, qdot_max = [-1.5]*3, [1.5]*3                                                              # joint velocity (angular) limits, rad/s\n",
    "torque_min, torque_max = [-1.0,-1.0,-1.0], [1.0,1.0,1.0]                                            # torque input limits on joints, N\n",
    "\n",
    "# define contact model parameters\n",
    "K_ee_block = 5000.0                                                                                 # end eff to block contact stiffness param, N/m\n",
    "K_ee_ground = 1.0e8                                                                                 # end eff to ground contact stiffness param, N/m\n",
    "mu_block_ground = 0.7                                                                               # block to ground friction coeff\n",
    "\n",
    "# booleans to activate different controllers (CHANGE TO TRUE TO ACTIVATE)\n",
    "is_opSpace      = True\n",
    "debugger        = True\n",
    "is_pushblock    = True\n",
    "\n",
    "Q_init = {\n",
    "    'joints': q_init,\n",
    "    'block': qblock_init\n",
    "}\n",
    "Qdot_init = {\n",
    "    'joints': qdot_init,\n",
    "    'block': qblockdot_init\n",
    "}"
   ]
  },
  {
   "cell_type": "markdown",
   "id": "fd17f273",
   "metadata": {},
   "source": [
    "**Step 1** Write the forward kinematics of the system"
   ]
  },
  {
   "cell_type": "code",
   "execution_count": 3,
   "id": "09a13f92",
   "metadata": {},
   "outputs": [],
   "source": [
    "def forward_kinematics(Q, Qdot):\n",
    "    q, qdot = Q['joints'], Qdot['joints']\n",
    "    # joint positions with respect to the world frame W\n",
    "    x_1, y_1 = l_links[0]*jnp.sin(q[0]), l_links[0]*jnp.cos(q[0])\n",
    "    x_2, y_2 = x_1 + l_links[1]*jnp.sin(q[0]+q[1]), y_1 + l_links[1]*jnp.cos(q[0]+q[1])\n",
    "    x_3, y_3 = x_2 + l_links[2]*jnp.sin(q[0]+q[1]+q[2]), y_2 + l_links[2]*jnp.cos(q[0]+q[1]+q[2])\n",
    "    # joint (rectangular) velocities with respecto to the world frame W\n",
    "    xdot_1, ydot_1 = - l_links[0]*qdot[0]*jnp.cos(q[0]), l_links[0]*qdot[0]*jnp.sin(q[0])\n",
    "    xdot_2, ydot_2 = xdot_1 - l_links[1]*(qdot[0]+qdot[1])*jnp.cos(q[0]+q[1]), ydot_1 + l_links[1]*(qdot[0]+qdot[1])*jnp.sin(q[0]+q[1])\n",
    "    xdot_3, ydot_3 = xdot_2 - l_links[1]*(qdot[0]+qdot[1]+qdot[2])*jnp.cos(q[0]+q[1]+q[2]), ydot_2 + l_links[1]*(qdot[0]+qdot[1]+qdot[2])*jnp.sin(q[0]+q[1]+q[2])\n",
    "    return jnp.array([\n",
    "        (x_1,y_1),\n",
    "        (x_2,y_2),\n",
    "        (x_3,y_3)\n",
    "    ]), jnp.array([\n",
    "        (xdot_1,ydot_1),\n",
    "        (xdot_2,ydot_2),\n",
    "        (xdot_3,ydot_3)\n",
    "    ])"
   ]
  },
  {
   "cell_type": "markdown",
   "id": "fd8de613",
   "metadata": {},
   "source": [
    "**Step 2** Define Contact Physics Using the Soft Contact Model"
   ]
  },
  {
   "cell_type": "code",
   "execution_count": 4,
   "id": "54e4fed9",
   "metadata": {},
   "outputs": [],
   "source": [
    "def signed_distance_function_ee_to_block(Q,Qdot):\n",
    "    # signed distance function\n",
    "    def softmax(a, b, eps=0.001):\n",
    "        \"\"\"\n",
    "        softmax activation\n",
    "        \"\"\"\n",
    "        return 0.5 * (a + b + jnp.sqrt((a-b)**2 + eps**2))\n",
    "    def R(angle: float):\n",
    "        \"\"\"\n",
    "        z-Rotation matrix\n",
    "        \"\"\"\n",
    "        return jnp.array([[jnp.cos(angle), -jnp.sin(angle)],\n",
    "                          [jnp.sin(angle), jnp.cos(angle)]]).reshape((2,2))\n",
    "    # get joint positions and end eff velocities\n",
    "    pos, vel = forward_kinematics(Q,Qdot)\n",
    "    # split up the state vector of box\n",
    "    qbx, qby, qbphi = jnp.split(Q['block'], 3)\n",
    "    # sdf vector\n",
    "    phix, phiy = jnp.split(\n",
    "        jnp.abs(\n",
    "        R(-qbphi)@(jnp.hstack(pos[-1]) - jnp.hstack([qbx, qby]))\n",
    "        ) - jnp.hstack(\n",
    "            [\n",
    "                0.5*l_block,\n",
    "                0.5*l_block\n",
    "            ]\n",
    "        ),\n",
    "        2\n",
    "    )\n",
    "    return (softmax(phix,0.0)**2 + softmax(phiy,0.0)**2)**0.5 \\\n",
    "            -softmax(-softmax(phix,phiy),0.0)\n",
    "\n",
    "def signed_distance_function_ee_to_ground(Q,Qdot):\n",
    "    # get joint positions and end eff velocities\n",
    "    pos, vel = forward_kinematics(Q,Qdot)\n",
    "\n",
    "    return jnp.array([pos[-1,1]])\n",
    "\n",
    "def get_contact_jac_ee_to_block(Q,Qdot):\n",
    "    return jacfwd(signed_distance_function_ee_to_block, argnums=0)(Q,Qdot)\n",
    "\n",
    "def get_contact_jac_ee_to_ground(Q,Qdot):\n",
    "    return jacfwd(signed_distance_function_ee_to_ground, argnums=0)(Q,Qdot)\n",
    "\n",
    "def get_contact_force_ee_to_block(Q,Qdot):\n",
    "    # assuming no contact dampening\n",
    "    phi_n = signed_distance_function_ee_to_block(Q,Qdot)\n",
    "    return jnp.maximum(0.0,-K_ee_block*phi_n)\n",
    "\n",
    "def get_contact_force_ee_to_ground(Q,Qdot):\n",
    "    # assuming no contact dampening\n",
    "    phi_n = signed_distance_function_ee_to_ground(Q,Qdot)\n",
    "    return jnp.maximum(0.0,-K_ee_ground*phi_n)\n"
   ]
  },
  {
   "cell_type": "code",
   "execution_count": 5,
   "id": "b7167287",
   "metadata": {},
   "outputs": [
    {
     "name": "stdout",
     "output_type": "stream",
     "text": [
      "sdf_block:  [0.35147092]\n",
      "sdf_ground:  [0.44844073]\n",
      "contact jacobian block:  {'block': Array([[ 0.1310134 , -0.99137855,  0.04301836]], dtype=float32), 'joints': Array([[-0.4592216 , -0.4394307 , -0.24921489]], dtype=float32)}\n",
      "contact jacobian ground:  {'block': Array([[0., 0., 0.]], dtype=float32), 'joints': Array([[-0.4039525, -0.4169828, -0.2496602]], dtype=float32)}\n",
      "force:  [0.]\n",
      "projected ground force:  [-0. -0. -0.]\n"
     ]
    }
   ],
   "source": [
    "## test ##\n",
    "print('sdf_block: ', signed_distance_function_ee_to_block(Q_init,Qdot_init))\n",
    "print('sdf_ground: ', signed_distance_function_ee_to_ground(Q_init,Qdot_init))\n",
    "print('contact jacobian block: ', get_contact_jac_ee_to_block(Q_init,Qdot_init))\n",
    "print('contact jacobian ground: ', get_contact_jac_ee_to_ground(Q_init,Qdot_init))\n",
    "print('force: ', get_contact_force_ee_to_block(Q_init,Qdot_init))\n",
    "print('projected ground force: ', get_contact_jac_ee_to_ground(Q_init,Qdot_init)['joints'].T@\n",
    "      get_contact_force_ee_to_ground(Q_init,Qdot_init))"
   ]
  },
  {
   "cell_type": "markdown",
   "id": "90fed8c1",
   "metadata": {},
   "source": [
    "**Step 3** Define the Lagrangian of the system."
   ]
  },
  {
   "cell_type": "code",
   "execution_count": 6,
   "id": "4122a239",
   "metadata": {},
   "outputs": [],
   "source": [
    "def Lagrangian(Q,Qdot):\n",
    "    \"\"\"\n",
    "    returns the lagrangian of the finger robot \\n\n",
    "    inputs:\n",
    "        `Q`[dict]: joint angles and block position in world frame\n",
    "        `Qdot`[dict]: joint angular velocities and block velocity in world frame\n",
    "    returns:\n",
    "        Lagrangian (`T - V`): T includes translational and rotational kinetic energy, V includes only gravitational energy\n",
    "    \"\"\"\n",
    "    ## write code here ##\n",
    "    pos, vel = forward_kinematics(Q,Qdot)\n",
    "    T = jnp.sum(jnp.hstack([0.5 * m_links[i] * jnp.sum(vel[i]**2) for i in range(pos.shape[0])])) \\\n",
    "        + jnp.sum(jnp.hstack([0.5*I_links[i]*Qdot['joints'][i]**2 for i in range(Qdot['joints'].shape[0])]))\n",
    "    V = jnp.sum(jnp.hstack([m_links[i] * g * pos[i,-1] for i in range(pos.shape[0])]))\n",
    "    \n",
    "    return T - V\n",
    "\n",
    "# get mass, coriolis, and gravity matrix functions\n",
    "Mass_matrix = jit(jacfwd(jacfwd(Lagrangian, argnums=1), argnums=1))\n",
    "Coriolis_matrix = jit(jacfwd(jacfwd(Lagrangian, argnums=1), argnums=0))\n",
    "Grav_vector = jit(jacfwd(Lagrangian, argnums=0))\n",
    "\n",
    "def qddot_finger(Q, Qdot, tau):\n",
    "    # get contact force and contact jacobians\n",
    "    _lambda = get_contact_force_ee_to_block(Q,Qdot)\n",
    "    _lambda_ee_to_ground = get_contact_force_ee_to_block(Q,Qdot)\n",
    "    jac_lambda = get_contact_jac_ee_to_block(Q,Qdot)['joints']\n",
    "    jac_lambda_ee_to_ground = get_contact_jac_ee_to_ground(Q,Qdot)['joints']\n",
    "    \n",
    "    return jnp.linalg.inv(Mass_matrix(Q,Qdot)['joints']['joints']) @ (tau + \n",
    "                                                                      jac_lambda.T@_lambda + \n",
    "                                                                      jac_lambda_ee_to_ground.T@_lambda_ee_to_ground +\n",
    "                                                                      Grav_vector(Q,Qdot)['joints'] - \n",
    "                                                                      Coriolis_matrix(Q,Qdot)['joints']['joints']@Qdot['joints'])\n",
    "\n",
    "def qddot_block(Q, Qdot):\n",
    "    # get contact force and contact jacobians\n",
    "    _lambda = get_contact_force_ee_to_block(Q,Qdot)\n",
    "    jac_lambda = get_contact_jac_ee_to_block(Q,Qdot)['block']\n",
    "    _lambda_friction = jnp.array([-mu_block_ground*m_block*g*jnp.tanh(jac_lambda@Qdot['block'])])[0]\n",
    "    Jc_T_lambda_ee_to_block_x =(jac_lambda.T@_lambda)[0]\n",
    "    Jc_T_lambda_friction = (jac_lambda.T@_lambda_friction)[0]\n",
    "\n",
    "    return jnp.hstack([m_block**-1 * (Jc_T_lambda_ee_to_block_x + Jc_T_lambda_friction),0.0,0.0])"
   ]
  },
  {
   "cell_type": "code",
   "execution_count": 7,
   "id": "a8bf3b17",
   "metadata": {},
   "outputs": [
    {
     "name": "stdout",
     "output_type": "stream",
     "text": [
      "lag:  -1.1119747\n",
      "qddot_finger:  [-12.89474   38.96599   -4.910534]\n",
      "qddot_block:  [0. 0. 0.]\n"
     ]
    }
   ],
   "source": [
    "## test ##\n",
    "print('lag: ', Lagrangian(Q_init,Qdot_init))\n",
    "print('qddot_finger: ', qddot_finger(Q_init, Qdot_init, jnp.zeros_like(Q_init['joints'])))\n",
    "print('qddot_block: ', qddot_block(Q_init, Qdot_init))"
   ]
  },
  {
   "cell_type": "markdown",
   "id": "75f3184a",
   "metadata": {},
   "source": [
    "**Step 3.5** Define functions to control the finger in end-effector space (called Operational Space Control)"
   ]
  },
  {
   "cell_type": "code",
   "execution_count": 8,
   "id": "7ebeb082",
   "metadata": {},
   "outputs": [],
   "source": [
    "def get_xddot_des_finger(x, Kp = 500.0, Kd = 5.0):\n",
    "    return Kp*(x_op_space_goal - x[:2]) + Kd*(x[2:])\n",
    "\n",
    "def get_jac_fwd(Q,Qdot):\n",
    "    # compute jacobian of forward kinematics wrt joint angles\n",
    "    dpos_dq, _ = jacfwd(forward_kinematics, argnums=0)(Q,Qdot)\n",
    "    return dpos_dq['joints'][-1]\n",
    "\n",
    "def get_operational_space_mass_matrix(Q,Qdot):\n",
    "    jac = get_jac_fwd(Q,Qdot)\n",
    "    return jnp.linalg.inv(jac@jnp.linalg.inv(Mass_matrix(Q,Qdot)['joints']['joints'])@jac.T)\n",
    "\n",
    "def get_operational_space_control(Q,Qdot):\n",
    "    # compute forward kinematics, and get jacobian\n",
    "    pos, vel = forward_kinematics(Q,Qdot)\n",
    "    jac = get_jac_fwd(Q,Qdot)\n",
    "\n",
    "    # get mass matrix and xddot desired\n",
    "    M_op = get_operational_space_mass_matrix(Q,Qdot)\n",
    "    xddot_des = get_xddot_des_finger(jnp.hstack([pos[-1],vel[-1]]))\n",
    "\n",
    "    # compute bias\n",
    "    bias = jnp.linalg.pinv(jac.T) @ (Coriolis_matrix(Q,Qdot)['joints']['joints']@Qdot['joints'] - Grav_vector(Q,Qdot)['joints'])\n",
    "\n",
    "    return jac.T @ (M_op@xddot_des + bias)"
   ]
  },
  {
   "cell_type": "code",
   "execution_count": 9,
   "id": "6370e82a",
   "metadata": {},
   "outputs": [
    {
     "name": "stdout",
     "output_type": "stream",
     "text": [
      "os_ctrl:  [3.741358 4.589402 3.039681]\n",
      "fwd_kine:  [0.4039525  0.44844073]\n",
      "goal:  [0.4 0.2]\n"
     ]
    }
   ],
   "source": [
    "# test\n",
    "print('os_ctrl: ', get_operational_space_control(Q_init,Qdot_init))\n",
    "print('fwd_kine: ', forward_kinematics(Q_init,Qdot_init)[0][-1])\n",
    "print('goal: ', x_op_space_goal)"
   ]
  },
  {
   "cell_type": "markdown",
   "id": "74e91cc3",
   "metadata": {},
   "source": [
    "**Step 4** Write the numerical integrator of choice"
   ]
  },
  {
   "cell_type": "code",
   "execution_count": 10,
   "id": "983fa6dc",
   "metadata": {},
   "outputs": [],
   "source": [
    "def explicit_euler(Q, Qdot, tau):\n",
    "    # clip the torque inputs in case\n",
    "    # tau = jnp.clip(tau, jnp.array(torque_min), jnp.array(torque_max))\n",
    "\n",
    "    return {\n",
    "        'joints': jnp.clip(Q['joints'] + dt * Qdot['joints'], jnp.array(q_min), jnp.array(q_max)),\n",
    "        'block': Q['block'] + dt * Qdot['block']\n",
    "    }, {\n",
    "        'joints': jnp.clip(Qdot['joints'] + dt * qddot_finger(Q,Qdot,tau), jnp.array(qdot_min), jnp.array(qdot_max)),\n",
    "        'block': Qdot['block'] + dt * qddot_block(Q,Qdot)\n",
    "    }\n",
    "\n",
    "def scan_step(x, tau):\n",
    "    # split up the state vector\n",
    "    Q, Qdot = {k: v[:3] for k, v in x.items()}, {k: v[3:] for k, v in x.items()}\n",
    "\n",
    "    # clip the torque inputs in case\n",
    "    tau = jnp.clip(tau, jnp.array(torque_min), jnp.array(torque_max))\n",
    "\n",
    "    return {\n",
    "        'joints': jnp.hstack([jnp.clip(Q['joints'] + dt * Qdot['joints'], jnp.array(q_min), jnp.array(q_max)), \n",
    "                              jnp.clip(Qdot['joints'] + dt * qddot_finger(Q,Qdot,tau), jnp.array(qdot_min), jnp.array(qdot_max))]),\n",
    "        'block': jnp.hstack([Q['block'] + dt * Qdot['block'], Qdot['block'] + dt * qddot_block(Q,Qdot)])\n",
    "    }, x\n",
    "\n",
    "def sim_step(Q, Qdot, tau):\n",
    "    # clip the torque inputs in case\n",
    "    tau = jnp.clip(tau, jnp.array(torque_min), jnp.array(torque_max))\n",
    "    \n",
    "    return {\n",
    "        'Q': {'joints': jnp.clip(Q['joints'] + dt * Qdot['joints'], jnp.array(q_min), jnp.array(q_max)), \n",
    "              'block': Q['block'] + dt * Qdot['block']},\n",
    "        'Qdot': {'joints': jnp.clip(Qdot['joints'] + dt * qddot_finger(Q,Qdot,tau), jnp.array(qdot_min), jnp.array(qdot_max)), \n",
    "                 'block': Qdot['block'] + dt * qddot_block(Q,Qdot)},\n",
    "        'u': tau\n",
    "    }\n",
    "\n",
    "def rk4():\n",
    "    ## optional, if you wish to use rk4 ##\n",
    "    return"
   ]
  },
  {
   "cell_type": "markdown",
   "id": "a96ddee2",
   "metadata": {},
   "source": [
    "**Step 5** Define a rollout function that rollouts trajectories given a sequence of controls"
   ]
  },
  {
   "cell_type": "code",
   "execution_count": 11,
   "id": "2390ee39",
   "metadata": {},
   "outputs": [],
   "source": [
    "def rollout(_Q_init,_Qdot_init,us):\n",
    "    return jax.lax.scan(scan_step,\n",
    "    init={k: np.concatenate((_Q_init[k], _Qdot_init[k])) for k in _Q_init.keys()}, \n",
    "    xs=us, length=us.shape[0])[-1]"
   ]
  },
  {
   "cell_type": "markdown",
   "id": "f1b8b153",
   "metadata": {},
   "source": [
    "**Execute Operational Spaace Controller**"
   ]
  },
  {
   "cell_type": "code",
   "execution_count": 12,
   "id": "2e250cc7",
   "metadata": {},
   "outputs": [
    {
     "name": "stderr",
     "output_type": "stream",
     "text": [
      "  0%|          | 1/1000 [00:00<08:30,  1.96it/s]"
     ]
    },
    {
     "name": "stdout",
     "output_type": "stream",
     "text": [
      "Q: {'joints': Array([-0.0521448,  0.7853982,  0.7853982], dtype=float32), 'block': Array([0.5 , 0.05, 0.  ], dtype=float32)}, \n",
      "Qdot:{'joints': Array([-0.06414329,  0.11020158,  0.41253108], dtype=float32), 'block': Array([0., 0., 0.], dtype=float32)}\n",
      "end eff:  [0.4039525  0.44844073]\n",
      "\n"
     ]
    },
    {
     "name": "stderr",
     "output_type": "stream",
     "text": [
      " 10%|█         | 101/1000 [00:42<05:03,  2.96it/s]"
     ]
    },
    {
     "name": "stdout",
     "output_type": "stream",
     "text": [
      "Q: {'joints': Array([-0.1830776,  0.9257694,  0.9333651], dtype=float32), 'block': Array([0.5 , 0.05, 0.  ], dtype=float32)}, \n",
      "Qdot:{'joints': Array([-1.4079227,  1.5      ,  1.5      ], dtype=float32), 'block': Array([0., 0., 0.], dtype=float32)}\n",
      "end eff:  [0.37217045 0.40371817]\n",
      "\n"
     ]
    },
    {
     "name": "stderr",
     "output_type": "stream",
     "text": [
      " 20%|██        | 201/1000 [01:18<06:20,  2.10it/s]"
     ]
    },
    {
     "name": "stdout",
     "output_type": "stream",
     "text": [
      "Q: {'joints': Array([-0.22119923,  1.0757704 ,  1.083323  ], dtype=float32), 'block': Array([0.5 , 0.05, 0.  ], dtype=float32)}, \n",
      "Qdot:{'joints': Array([0.9162704, 1.5      , 1.4722029], dtype=float32), 'block': Array([0., 0., 0.], dtype=float32)}\n",
      "end eff:  [0.36706564 0.31831726]\n",
      "\n"
     ]
    },
    {
     "name": "stderr",
     "output_type": "stream",
     "text": [
      " 30%|███       | 301/1000 [01:59<04:35,  2.53it/s]"
     ]
    },
    {
     "name": "stdout",
     "output_type": "stream",
     "text": [
      "Q: {'joints': Array([-0.08172922,  1.2257714 ,  1.086716  ], dtype=float32), 'block': Array([0.5 , 0.05, 0.  ], dtype=float32)}, \n",
      "Qdot:{'joints': Array([ 1.229457,  1.5     , -1.264485], dtype=float32), 'block': Array([0., 0., 0.], dtype=float32)}\n",
      "end eff:  [0.40467286 0.19937336]\n",
      "\n"
     ]
    },
    {
     "name": "stderr",
     "output_type": "stream",
     "text": [
      " 40%|████      | 401/1000 [02:53<05:06,  1.95it/s]"
     ]
    },
    {
     "name": "stdout",
     "output_type": "stream",
     "text": [
      "Q: {'joints': Array([-0.09773806,  1.346976  ,  0.97713506], dtype=float32), 'block': Array([0.5 , 0.05, 0.  ], dtype=float32)}, \n",
      "Qdot:{'joints': Array([-1.5      ,  0.9573325, -1.066787 ], dtype=float32), 'block': Array([0., 0., 0.], dtype=float32)}\n",
      "end eff:  [0.4109645  0.17541406]\n",
      "\n"
     ]
    },
    {
     "name": "stderr",
     "output_type": "stream",
     "text": [
      " 50%|█████     | 501/1000 [03:36<03:35,  2.32it/s]"
     ]
    },
    {
     "name": "stdout",
     "output_type": "stream",
     "text": [
      "Q: {'joints': Array([-0.24773775,  1.4838893 ,  0.83276504], dtype=float32), 'block': Array([0.5 , 0.05, 0.  ], dtype=float32)}, \n",
      "Qdot:{'joints': Array([-1.5,  1.5, -1.5], dtype=float32), 'block': Array([0., 0., 0.], dtype=float32)}\n",
      "end eff:  [0.39444947 0.20503207]\n",
      "\n"
     ]
    },
    {
     "name": "stderr",
     "output_type": "stream",
     "text": [
      " 60%|██████    | 601/1000 [04:56<07:17,  1.10s/it]"
     ]
    },
    {
     "name": "stdout",
     "output_type": "stream",
     "text": [
      "Q: {'joints': Array([-0.36183187,  1.5707964 ,  0.682764  ], dtype=float32), 'block': Array([0.5 , 0.05, 0.  ], dtype=float32)}, \n",
      "Qdot:{'joints': Array([-0.3735286,  1.5      , -1.5      ], dtype=float32), 'block': Array([0., 0., 0.], dtype=float32)}\n",
      "end eff:  [0.38255093 0.24344671]\n",
      "\n"
     ]
    },
    {
     "name": "stderr",
     "output_type": "stream",
     "text": [
      " 70%|███████   | 701/1000 [06:44<05:22,  1.08s/it]"
     ]
    },
    {
     "name": "stdout",
     "output_type": "stream",
     "text": [
      "Q: {'joints': Array([-0.31824747,  1.5707964 ,  0.5372793 ], dtype=float32), 'block': Array([0.5 , 0.05, 0.  ], dtype=float32)}, \n",
      "Qdot:{'joints': Array([ 0.767978 ,  1.5      , -1.0881783], dtype=float32), 'block': Array([0., 0., 0.], dtype=float32)}\n",
      "end eff:  [0.40324777 0.26135072]\n",
      "\n"
     ]
    },
    {
     "name": "stderr",
     "output_type": "stream",
     "text": [
      " 80%|████████  | 801/1000 [08:35<03:40,  1.11s/it]"
     ]
    },
    {
     "name": "stdout",
     "output_type": "stream",
     "text": [
      "Q: {'joints': Array([-0.29991785,  1.5707964 ,  0.55206186], dtype=float32), 'block': Array([0.5 , 0.05, 0.  ], dtype=float32)}, \n",
      "Qdot:{'joints': Array([-0.40873203,  1.5       ,  1.02969   ], dtype=float32), 'block': Array([0., 0., 0.], dtype=float32)}\n",
      "end eff:  [0.4070747  0.25033042]\n",
      "\n"
     ]
    },
    {
     "name": "stderr",
     "output_type": "stream",
     "text": [
      " 90%|█████████ | 901/1000 [10:23<01:49,  1.10s/it]"
     ]
    },
    {
     "name": "stdout",
     "output_type": "stream",
     "text": [
      "Q: {'joints': Array([-0.33566082,  1.5707964 ,  0.5986851 ], dtype=float32), 'block': Array([0.5 , 0.05, 0.  ], dtype=float32)}, \n",
      "Qdot:{'joints': Array([-0.04849529,  1.5       , -0.46459436], dtype=float32), 'block': Array([0., 0., 0.], dtype=float32)}\n",
      "end eff:  [0.39510196 0.253396  ]\n",
      "\n"
     ]
    },
    {
     "name": "stderr",
     "output_type": "stream",
     "text": [
      "100%|██████████| 1000/1000 [12:12<00:00,  1.37it/s]\n"
     ]
    },
    {
     "data": {
      "image/png": "[encoded data removed]",
      "text/plain": [
       "<Figure size 640x480 with 1 Axes>"
      ]
     },
     "metadata": {},
     "output_type": "display_data"
    }
   ],
   "source": [
    "# test operational space controller\n",
    "if is_opSpace:\n",
    "    joint_angles = []\n",
    "    for i in tqdm(range(1000)):\n",
    "        u = get_operational_space_control(Q_init,Qdot_init)\n",
    "        Q_init, Qdot_init = explicit_euler(Q_init,Qdot_init,u)\n",
    "        joint_angles.append(Q_init['joints'])\n",
    "        if debugger:\n",
    "            if i%100 == 0:\n",
    "                print(f'Q: {Q_init}, \\nQdot:{Qdot_init}')\n",
    "                print('end eff: ', forward_kinematics(Q_init,Qdot_init)[0][-1])\n",
    "                print()\n",
    "\n",
    "    # animate\n",
    "    animate(np.array(joint_angles), {'link_lengths': l_links, 'goal': x_op_space_goal}, filename='opSpace')"
   ]
  },
  {
   "cell_type": "markdown",
   "id": "bc9a19f8",
   "metadata": {},
   "source": [
    "**Step 5** Write the cost function to perform the block pushing"
   ]
  },
  {
   "cell_type": "code",
   "execution_count": 13,
   "id": "77ffa9cd",
   "metadata": {},
   "outputs": [],
   "source": [
    "# define the weight hyperparameters for loss function\n",
    "W_Q = jnp.eye(2)*10.0\n",
    "W_Qt = jnp.eye(6)*1e-5\n",
    "W_u = jnp.eye(3)*0.0\n",
    "\n",
    "def task_cost(x_block, u):\n",
    "    return jnp.mean(vmap(lambda _x_block, _u : (_x_block[:2] - xblock_goal[:2]).T@W_Q@(_x_block[:2] - xblock_goal[:2]) \\\n",
    "            + _u.T@W_u@_u)(x_block,u)) + (x_block[-1] - xblock_goal).T@W_Qt@(x_block[-1] - xblock_goal)\n",
    "\n",
    "\n",
    "def total_cost(_Q_init, _Qdot_init, u):\n",
    "    # rollout the trajectory, split up the states into new variables\n",
    "    traj = rollout(_Q_init,_Qdot_init,u)\n",
    "    Q, Qdot = {k: v[:,:3] for k, v in traj.items()}, {k: v[:,3:] for k, v in traj.items()}\n",
    "    x_block = jnp.hstack([Q['block'],Qdot['block']])\n",
    "\n",
    "    return task_cost(x_block, u) \\\n",
    "            + 1e-3*jnp.sum(vmap(signed_distance_function_ee_to_block)(Q,Qdot)**2) \\\n",
    "            + 1e6*jnp.sum(jnp.minimum(0.0,vmap(signed_distance_function_ee_to_ground)(Q,Qdot))**2)"
   ]
  },
  {
   "cell_type": "code",
   "execution_count": 14,
   "id": "c001a403",
   "metadata": {},
   "outputs": [],
   "source": [
    "# instantiate the predictive sampler class\n",
    "caps = CAPS(dt,ctrl_hrzn=25,ctrl_bounds=(torque_min, torque_max),\n",
    "            pos_bounds=(q_min, q_max), \n",
    "            vel_bounds=(qdot_min, qdot_max),\n",
    "            num_splines=20)"
   ]
  },
  {
   "cell_type": "code",
   "execution_count": 15,
   "id": "a882e7af",
   "metadata": {},
   "outputs": [],
   "source": [
    "# log\n",
    "def log_data(stack:dict, data:dict) -> dict:\n",
    "    stack['Q']['joints'].append(data['Q']['joints'])\n",
    "    stack['Q']['block'].append(data['Q']['block'])\n",
    "    stack['Qdot']['joints'].append(data['Qdot']['joints'])\n",
    "    stack['Qdot']['block'].append(data['Qdot']['block'])\n",
    "    stack['u'].append(data['u'])\n",
    "    return stack\n",
    "\n",
    "# function to update plan\n",
    "def update_plan_and_keys(sample_nomplans,keys,star):\n",
    "    # update the nominal plan and keys\n",
    "    nominal_plan = caps.update_plan(star,sample_nomplans,keys)\n",
    "    keys = caps.update_keys(star,keys)\n",
    "    return nominal_plan, keys\n",
    "\n",
    "# run the controller\n",
    "def run_pushing_task(Q_init, Qdot_init, T : int = 2000):\n",
    "    \"\"\"\n",
    "    runs the experimental design algo\n",
    "    \"\"\"\n",
    "    # initialize nominal plan and control sampling keys\n",
    "    nominal_plan = caps.get_init_plan()\n",
    "    keys = caps.get_init_keys(10)\n",
    "\n",
    "    # initialize data\n",
    "    simulator_data = {\n",
    "        'Q': Q_init,\n",
    "        'Qdot': Qdot_init,       \n",
    "        'u': jnp.zeros((2,))\n",
    "    }\n",
    "\n",
    "    # initialize the stacks to append to\n",
    "    sim_stack = {'Q':{'joints': [], 'block': []}, 'Qdot':{'joints': [], 'block': []}, 'u': []}\n",
    "    \n",
    "    for t in tqdm(range(T)):\n",
    "        # get costs and best action from sampled controls from the task and the information measure\n",
    "        ustar, star, sample_nomplans, _ = caps.get_action(total_cost, keys, nominal_plan, \n",
    "                                                          simulator_data['Q'], simulator_data['Qdot'])\n",
    "        nominal_plan, keys = update_plan_and_keys(sample_nomplans,keys,star)\n",
    "        \n",
    "        # apply control to robot - real params\n",
    "        simulator_data = sim_step(simulator_data['Q'], simulator_data['Qdot'], ustar)\n",
    "\n",
    "        # print(physics_params)\n",
    "        sim_stack = log_data(sim_stack,simulator_data)\n",
    "\n",
    "        if debugger:\n",
    "            if t%100 == 0:\n",
    "                print('sdf: ', signed_distance_function_ee_to_block(simulator_data['Q'], simulator_data['Qdot']))\n",
    "                print('optimality loss: ', jnp.linalg.norm(simulator_data['Q']['block'][:2] - xblock_goal[:2]))\n",
    "\n",
    "    sim_stack['Q']['joints'] = jnp.array(sim_stack['Q']['joints'])\n",
    "    sim_stack['Qdot']['joints'] = jnp.array(sim_stack['Qdot']['joints'])\n",
    "    sim_stack['Q']['block'] = jnp.array(sim_stack['Q']['block'])\n",
    "    sim_stack['Qdot']['block'] = jnp.array(sim_stack['Qdot']['block'])\n",
    "    sim_stack['u'] = jnp.array(sim_stack['u'])\n",
    "\n",
    "    animate(sim_stack['Q']['joints'],{'l_box': l_block, 'link_lengths': l_links, 'goal': xblock_goal}, \n",
    "            box_pos=sim_stack['Q']['block'], filename='push_block')\n",
    "    \n",
    "    return sim_stack"
   ]
  },
  {
   "cell_type": "code",
   "execution_count": 16,
   "id": "98422ff1",
   "metadata": {},
   "outputs": [
    {
     "name": "stderr",
     "output_type": "stream",
     "text": [
      "  0%|          | 1/2000 [00:15<8:30:50, 15.33s/it]"
     ]
    },
    {
     "name": "stdout",
     "output_type": "stream",
     "text": [
      "sdf:  [0.16753128]\n",
      "optimality loss:  0.25\n"
     ]
    },
    {
     "name": "stderr",
     "output_type": "stream",
     "text": [
      "  5%|▌         | 101/2000 [02:34<44:44,  1.41s/it]"
     ]
    },
    {
     "name": "stdout",
     "output_type": "stream",
     "text": [
      "sdf:  [0.09752907]\n",
      "optimality loss:  0.25\n"
     ]
    },
    {
     "name": "stderr",
     "output_type": "stream",
     "text": [
      " 10%|█         | 201/2000 [04:51<42:08,  1.41s/it]"
     ]
    },
    {
     "name": "stdout",
     "output_type": "stream",
     "text": [
      "sdf:  [0.022297]\n",
      "optimality loss:  0.25\n"
     ]
    },
    {
     "name": "stderr",
     "output_type": "stream",
     "text": [
      " 15%|█▌        | 301/2000 [07:11<39:39,  1.40s/it]"
     ]
    },
    {
     "name": "stdout",
     "output_type": "stream",
     "text": [
      "sdf:  [0.02349552]\n",
      "optimality loss:  0.22860342\n"
     ]
    },
    {
     "name": "stderr",
     "output_type": "stream",
     "text": [
      " 20%|██        | 401/2000 [09:33<37:26,  1.40s/it]"
     ]
    },
    {
     "name": "stdout",
     "output_type": "stream",
     "text": [
      "sdf:  [0.07052466]\n",
      "optimality loss:  0.18180561\n"
     ]
    },
    {
     "name": "stderr",
     "output_type": "stream",
     "text": [
      " 25%|██▌       | 501/2000 [11:57<36:10,  1.45s/it]"
     ]
    },
    {
     "name": "stdout",
     "output_type": "stream",
     "text": [
      "sdf:  [0.05761549]\n",
      "optimality loss:  0.14668465\n"
     ]
    },
    {
     "name": "stderr",
     "output_type": "stream",
     "text": [
      " 30%|███       | 601/2000 [14:19<32:48,  1.41s/it]"
     ]
    },
    {
     "name": "stdout",
     "output_type": "stream",
     "text": [
      "sdf:  [0.04464231]\n",
      "optimality loss:  0.12489551\n"
     ]
    },
    {
     "name": "stderr",
     "output_type": "stream",
     "text": [
      " 35%|███▌      | 701/2000 [16:39<30:31,  1.41s/it]"
     ]
    },
    {
     "name": "stdout",
     "output_type": "stream",
     "text": [
      "sdf:  [0.03275509]\n",
      "optimality loss:  0.11334354\n"
     ]
    },
    {
     "name": "stderr",
     "output_type": "stream",
     "text": [
      " 40%|████      | 801/2000 [18:59<28:19,  1.42s/it]"
     ]
    },
    {
     "name": "stdout",
     "output_type": "stream",
     "text": [
      "sdf:  [0.02300406]\n",
      "optimality loss:  0.107533336\n"
     ]
    },
    {
     "name": "stderr",
     "output_type": "stream",
     "text": [
      " 45%|████▌     | 901/2000 [21:21<27:41,  1.51s/it]"
     ]
    },
    {
     "name": "stdout",
     "output_type": "stream",
     "text": [
      "sdf:  [0.02618385]\n",
      "optimality loss:  0.104239285\n"
     ]
    },
    {
     "name": "stderr",
     "output_type": "stream",
     "text": [
      " 50%|█████     | 1001/2000 [23:42<24:12,  1.45s/it]"
     ]
    },
    {
     "name": "stdout",
     "output_type": "stream",
     "text": [
      "sdf:  [0.02691082]\n",
      "optimality loss:  0.10119349\n"
     ]
    },
    {
     "name": "stderr",
     "output_type": "stream",
     "text": [
      " 55%|█████▌    | 1101/2000 [26:07<21:33,  1.44s/it]"
     ]
    },
    {
     "name": "stdout",
     "output_type": "stream",
     "text": [
      "sdf:  [0.03729446]\n",
      "optimality loss:  0.015322387\n"
     ]
    },
    {
     "name": "stderr",
     "output_type": "stream",
     "text": [
      " 60%|██████    | 1201/2000 [28:29<15:55,  1.20s/it]"
     ]
    },
    {
     "name": "stdout",
     "output_type": "stream",
     "text": [
      "sdf:  [0.71102196]\n",
      "optimality loss:  0.67368436\n"
     ]
    },
    {
     "name": "stderr",
     "output_type": "stream",
     "text": [
      " 65%|██████▌   | 1301/2000 [30:52<16:12,  1.39s/it]"
     ]
    },
    {
     "name": "stdout",
     "output_type": "stream",
     "text": [
      "sdf:  [1.3226337]\n",
      "optimality loss:  1.2940235\n"
     ]
    },
    {
     "name": "stderr",
     "output_type": "stream",
     "text": [
      " 70%|███████   | 1401/2000 [33:13<14:09,  1.42s/it]"
     ]
    },
    {
     "name": "stdout",
     "output_type": "stream",
     "text": [
      "sdf:  [1.8707658]\n",
      "optimality loss:  1.8457131\n"
     ]
    },
    {
     "name": "stderr",
     "output_type": "stream",
     "text": [
      " 75%|███████▌  | 1501/2000 [35:36<11:35,  1.39s/it]"
     ]
    },
    {
     "name": "stdout",
     "output_type": "stream",
     "text": [
      "sdf:  [2.3530722]\n",
      "optimality loss:  2.328768\n"
     ]
    },
    {
     "name": "stderr",
     "output_type": "stream",
     "text": [
      " 80%|████████  | 1601/2000 [37:55<09:37,  1.45s/it]"
     ]
    },
    {
     "name": "stdout",
     "output_type": "stream",
     "text": [
      "sdf:  [2.7674727]\n",
      "optimality loss:  2.743198\n"
     ]
    },
    {
     "name": "stderr",
     "output_type": "stream",
     "text": [
      " 85%|████████▌ | 1701/2000 [40:17<07:01,  1.41s/it]"
     ]
    },
    {
     "name": "stdout",
     "output_type": "stream",
     "text": [
      "sdf:  [3.1131194]\n",
      "optimality loss:  3.089052\n"
     ]
    },
    {
     "name": "stderr",
     "output_type": "stream",
     "text": [
      " 90%|█████████ | 1801/2000 [42:35<04:41,  1.42s/it]"
     ]
    },
    {
     "name": "stdout",
     "output_type": "stream",
     "text": [
      "sdf:  [3.3905878]\n",
      "optimality loss:  3.36656\n"
     ]
    },
    {
     "name": "stderr",
     "output_type": "stream",
     "text": [
      " 95%|█████████▌| 1901/2000 [45:02<03:08,  1.90s/it]"
     ]
    },
    {
     "name": "stdout",
     "output_type": "stream",
     "text": [
      "sdf:  [3.6006436]\n",
      "optimality loss:  3.5766106\n"
     ]
    },
    {
     "name": "stderr",
     "output_type": "stream",
     "text": [
      "100%|██████████| 2000/2000 [47:49<00:00,  1.43s/it]\n"
     ]
    },
    {
     "data": {
      "image/png": "[encoded data removed]",
      "text/plain": [
       "<Figure size 640x480 with 1 Axes>"
      ]
     },
     "metadata": {},
     "output_type": "display_data"
    }
   ],
   "source": [
    "if is_pushblock:\n",
    "\n",
    "    sim_stack = run_pushing_task(Q_init, Qdot_init, T=2000)"
   ]
  },
  {
   "cell_type": "code",
   "execution_count": null,
   "id": "a290aa52-0e10-48d9-8753-67baeb87c90c",
   "metadata": {},
   "outputs": [],
   "source": []
  }
 ],
 "metadata": {
  "kernelspec": {
   "display_name": "Python 3 (ipykernel)",
   "language": "python",
   "name": "python3"
  },
  "language_info": {
   "codemirror_mode": {
    "name": "ipython",
    "version": 3
   },
   "file_extension": ".py",
   "mimetype": "text/x-python",
   "name": "python",
   "nbconvert_exporter": "python",
   "pygments_lexer": "ipython3",
   "version": "3.9.23"
  }
 },
 "nbformat": 4,
 "nbformat_minor": 5
}
