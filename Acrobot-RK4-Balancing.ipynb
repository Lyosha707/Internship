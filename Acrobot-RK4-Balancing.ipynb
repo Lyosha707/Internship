{
 "cells": [
  {
   "cell_type": "markdown",
   "id": "ac208300-3bc2-4ef4-b594-12e4f5710e23",
   "metadata": {},
   "source": [
    "<h1><center>Acrobot - RK4</center></h1>"
   ]
  },
  {
   "cell_type": "code",
   "execution_count": 1,
   "id": "20bd7bbb-f9d6-467f-92fc-72a24de05bc6",
   "metadata": {},
   "outputs": [],
   "source": [
    "import meshcat\n",
    "import meshcat.geometry as geom\n",
    "import meshcat.transformations as tf\n",
    "import numpy as np\n",
    "import time\n",
    "import jax.numpy as jnp\n",
    "import jax\n",
    "from jax import jacfwd, hessian\n",
    "from jaxlie import SE2, SE3\n",
    "import matplotlib.pyplot as plt\n",
    "import matplotlib.animation as animation\n",
    "import math"
   ]
  },
  {
   "cell_type": "code",
   "execution_count": 2,
   "id": "3e78ecf2-1225-43c1-bf4a-a10b10b42cf5",
   "metadata": {},
   "outputs": [
    {
     "name": "stdout",
     "output_type": "stream",
     "text": [
      "You can open the visualizer by visiting the following URL:\n",
      "http://127.0.0.1:7000/static/\n"
     ]
    },
    {
     "data": {
      "text/html": [
       "\n",
       "            <div style=\"height: 400px; width: 100%; overflow-x: auto; overflow-y: hidden; resize: both\">\n",
       "            <iframe src=\"http://127.0.0.1:7000/static/\" style=\"width: 100%; height: 100%; border: none\"></iframe>\n",
       "            </div>\n",
       "            "
      ],
      "text/plain": [
       "<IPython.core.display.HTML object>"
      ]
     },
     "execution_count": 2,
     "metadata": {},
     "output_type": "execute_result"
    }
   ],
   "source": [
    "vis = meshcat.Visualizer()\n",
    "vis.jupyter_cell()"
   ]
  },
  {
   "cell_type": "code",
   "execution_count": 3,
   "id": "0cde02ff-f1ca-42e6-b817-1b2156586524",
   "metadata": {},
   "outputs": [
    {
     "name": "stdout",
     "output_type": "stream",
     "text": [
      "You can open the visualizer by visiting the following URL:\n",
      "http://127.0.0.1:7001/static/\n"
     ]
    }
   ],
   "source": [
    "vis = meshcat.Visualizer().open()\n",
    "\n",
    "center_of_attention = [0, 0, 0]\n",
    "camera_offset = [2, 0, 0]\n",
    "\n",
    "translation = tf.translation_matrix(camera_offset)\n",
    "rotation = tf.rotation_matrix(-np.pi/2, [0, 0, 1])\n",
    "camera_transform = np.dot(rotation, translation)\n",
    "vis[\"/Cameras/default\"].set_transform(camera_transform)\n",
    "vis[\"/Cameras/default/rotated/<object>\"].set_property(\"position\", camera_offset)"
   ]
  },
  {
   "cell_type": "code",
   "execution_count": 4,
   "id": "842c4ba6-77ce-4618-8415-e30a1eab8425",
   "metadata": {},
   "outputs": [],
   "source": [
    "########################################## Parameters ##########################################\n",
    "\n",
    "dt = 1e-5 #time step\n",
    "_g = 9.81 #gravity\n",
    "steps = 1500000 # iterations\n",
    "\n",
    "### link 1 ###\n",
    "_l1 = 0.5 #lenght\n",
    "_m1 = 10 #mass\n",
    "q1 = 0 #rads\n",
    "q_dot1 = 0 #rads/s\n",
    "q_ddot1 = 0 #rads/s**2\n",
    "T1 = 0 #torque\n",
    "I1 = 1/3 * _m1 * _l1**2 #Inertia\n",
    "_d1 = 0.0 #dampening\n",
    "\n",
    "### link 2 ###\n",
    "_l2 = 0.5\n",
    "_m2 = 10\n",
    "q2 = 0.0\n",
    "q_dot2 = 0\n",
    "q_ddot2 = 0\n",
    "T2 = 0\n",
    "I2 = 1/3 * _m2 * _l2**2\n",
    "_d2 = 0.0"
   ]
  },
  {
   "cell_type": "markdown",
   "id": "be98bab8-2319-4c61-893a-2e8a1e71a365",
   "metadata": {},
   "source": [
    "#### Using the equations in https://underactuated.csail.mit.edu/acrobot.html"
   ]
  },
  {
   "cell_type": "code",
   "execution_count": 5,
   "id": "522baa5f-68fb-4572-97d6-a938b0a2a761",
   "metadata": {},
   "outputs": [],
   "source": [
    "q = np.array([ q1, q2 ])\n",
    "q_dot = np.array([ q_dot1, q_dot2 ])\n",
    "q_ddot = np.array([q_ddot1, q_ddot2])\n",
    "D = np.diag([_d1, _d2])\n",
    "B = np.eye(2)\n",
    "\n",
    "def mass_matrix(q):\n",
    "    m11 = I1 + I2 + _m2 * (_l1 ** 2) + 2 * _m2 * _l1 * (_l2/2) * np.cos(q[1])\n",
    "    m12 = I2 + _m2 * _l1 * (_l2/2) * np.cos(q[1])\n",
    "    m21 = I2 + _m2 * _l1 * (_l2/2) * np.cos(q[1])\n",
    "    m22 = I2\n",
    "    return np.array([ [m11, m12], [m21, m22] ])\n",
    "    \n",
    "def coriolis(q, q_dot):\n",
    "    c11 = -2 * _m2 * _l1 * (_l2/2) * np.sin(q[1]) * q_dot[1]\n",
    "    c12 = -_m2 * _l1 * (_l2/2) * np.sin(q[1]) * q_dot[1]\n",
    "    c21 = _m2 * _l1 * (_l2/2) * np.sin(q[1]) * q_dot[0]\n",
    "    c22 = 0.0\n",
    "\n",
    "    return np.array([ [c11, c12], [c21, c22] ])\n",
    "    \n",
    "def gravy(q):\n",
    "    g1 = _m1 * _g * (_l1 / 2) * np.sin(q[0]) + _m2 * _g * (_l1 * np.sin(q[0]) + (_l2 / 2) * np.sin(q[0] + q[1]))\n",
    "    g2 = _m2 * _g * (_l2 / 2) * np.sin(q[0] + q[1])\n",
    "    return np.array([-g1, -g2])"
   ]
  },
  {
   "cell_type": "code",
   "execution_count": 9,
   "id": "403c120a-82a5-40f8-b113-5f445fa77910",
   "metadata": {},
   "outputs": [],
   "source": [
    "################################################ balancing ################################################\n",
    "q_des = np.array([np.pi/3, 0])\n",
    "q_dot_des = np.array([0.0, 0.0])\n",
    "\n",
    "kp = np.array([10000, 10000])\n",
    "kd = np.array([30, 30])\n",
    "\n",
    "def balancing(q, q_dot, q_des, q_dot_des):\n",
    "    e = q_des- q\n",
    "    e_dot = q_dot_des - q_dot\n",
    "\n",
    "    T = kp * e + kd * e_dot\n",
    "    return T"
   ]
  },
  {
   "cell_type": "code",
   "execution_count": 7,
   "id": "77a1bb83-e179-405e-a2ac-5081a58ed2bd",
   "metadata": {},
   "outputs": [],
   "source": [
    "################################################ RK4 ############################################\n",
    "    \n",
    "def angular(q, q_dot, T):\n",
    "    q_ddot = np.linalg.inv(mass_matrix(q)) @ (B @ T - coriolis(q, q_dot) @ q_dot - gravy(q)- D @ q_dot)\n",
    "    return q_ddot\n",
    "\n",
    "def f(y, T):\n",
    "    q = y[:2]\n",
    "    q_dot = y[2:]\n",
    "    q_ddot = angular(q, q_dot, T)\n",
    "    return np.concatenate((q_dot, q_ddot))\n",
    "\n",
    "def rk4(y, dt, T):\n",
    "    k1 = f(y, T)\n",
    "    k2 = f(y + dt * k1/2, T)\n",
    "    k3 = f(y + dt * k2/2, T)\n",
    "    k4 = f(y + dt * k3, T)\n",
    "    return y + (dt/6) * (k1 + 2 * k2 + 2 * k3 + k4)"
   ]
  },
  {
   "cell_type": "markdown",
   "id": "2a8d18c1-b2a9-4769-b671-ac6181db6ade",
   "metadata": {},
   "source": [
    "### Kinetic and Potential Energy "
   ]
  },
  {
   "cell_type": "code",
   "execution_count": 8,
   "id": "548ff9d1-5a34-4e69-973e-d2938114ca32",
   "metadata": {},
   "outputs": [],
   "source": [
    "################################################ For Graphing ############################################\n",
    "kinetic_list = []\n",
    "potential_list = []\n",
    "\n",
    "m = np.array([_m1, _m2])\n",
    "\n",
    "def kinetic(q, q_dot):\n",
    "    v1_sq = (_l1 / 2) ** 2 * q_dot[0] ** 2\n",
    "    v2_sq = (_l1 * q_dot[0]) ** 2 + (_l2 / 2) ** 2 * q_dot[1] ** 2 + 2 * _l1 * (_l2 / 2) * q_dot[0] * q_dot[1] * np.cos(q[0] - q[1])\n",
    "    K1 = 0.5 * _m1 * v1_sq + 0.5 * I1 * q_dot[0] ** 2\n",
    "    K2 = 0.5 * _m2 * v2_sq + 0.5 * I2 * q_dot[1] ** 2\n",
    "    return K1 + K2\n",
    " \n",
    "def potential(q):\n",
    "    y1 = -(_l1 / 2) * np.cos(q[0])\n",
    "    y2 = -_l1 * np.cos(q[0]) - (_l2 / 2) * np.cos(q[0] + q[1])\n",
    "    U1 = _m1 * _g * y1\n",
    "    U2 = _m2 * _g * y2\n",
    "    return U1 + U2\n",
    "\n",
    "def total_energy(q, q_dot):\n",
    "    return kinetic(q, q_dot) + potential(q_des)"
   ]
  },
  {
   "cell_type": "markdown",
   "id": "d2b7c5a2-4911-4e6c-a2f5-e6616d8e427c",
   "metadata": {},
   "source": [
    "### Simulation"
   ]
  },
  {
   "cell_type": "code",
   "execution_count": 10,
   "id": "34e12251-dd2a-4aa4-bd35-ed10855e4eda",
   "metadata": {},
   "outputs": [
    {
     "ename": "KeyboardInterrupt",
     "evalue": "",
     "output_type": "error",
     "traceback": [
      "\u001b[31m---------------------------------------------------------------------------\u001b[39m",
      "\u001b[31mKeyboardInterrupt\u001b[39m                         Traceback (most recent call last)",
      "\u001b[36mCell\u001b[39m\u001b[36m \u001b[39m\u001b[32mIn[10]\u001b[39m\u001b[32m, line 52\u001b[39m\n\u001b[32m     48\u001b[39m     t2 = tf.translation_matrix([\u001b[32m0.0\u001b[39m, \u001b[32m0.0\u001b[39m, _l2/\u001b[32m2\u001b[39m])\n\u001b[32m     50\u001b[39m     vis[\u001b[33m\"\u001b[39m\u001b[33mpendulum_link_2\u001b[39m\u001b[33m\"\u001b[39m].set_transform(np.dot(t_2, np.dot(r_2, t2)))\n\u001b[32m---> \u001b[39m\u001b[32m52\u001b[39m time.sleep(dt)\n",
      "\u001b[31mKeyboardInterrupt\u001b[39m: "
     ]
    }
   ],
   "source": [
    "######################### Animation RK4 Method #########################\n",
    "### pivot 1 ### \n",
    "pivot_1 = vis[\"base_pivot\"].set_object(geom.Sphere(0.01))\n",
    "### link 1 ###\n",
    "link = vis[\"pendulum_link\"]\n",
    "link.set_object(geom.Box([0.01, 0.01, -_l1]))\n",
    "\n",
    "### pivot 2 ###\n",
    "vis[\"base_pivot_2\"].set_object(geom.Sphere(0.01))\n",
    "### link 2 ###\n",
    "link2 = vis[\"pendulum_link_2\"]\n",
    "link2.set_object(geom.Box([0.01, 0.01, -_l2]))\n",
    "\n",
    "y = np.array([q1, q2, q_dot1, q_dot2])\n",
    "\n",
    "for t in range(steps):\n",
    "                                \n",
    "    T = balancing(q, q_dot, q_des, q_dot_des)\n",
    "    q_ddot = angular(q, q_dot, T)\n",
    "    y = rk4(y, dt, T)\n",
    "    \n",
    "    q = y[:2]\n",
    "    q_dot = y[2:]\n",
    "\n",
    "    K = kinetic(q, q_dot)\n",
    "    U = potential(q)\n",
    "\n",
    "    kinetic_list.append(K)\n",
    "    potential_list.append(U)\n",
    "\n",
    "    if t % 50 == 0:\n",
    "        \n",
    "        #print(q[0], q[1], q_dot[0], q_dot[1])\n",
    "\n",
    "        ### link 1 ### \n",
    "        r_1 = tf.rotation_matrix(q[0], [0, 1, 0])\n",
    "        t_1 = tf.translation_matrix([0.0, 0.0, (_l1 / 2)])\n",
    "    \n",
    "        vis[\"pendulum_link\"].set_transform(np.dot(r_1, t_1))\n",
    "    \n",
    "    ### pivot 2 ###\n",
    "        pt_2 = tf.translation_matrix([0.0, 0.0, _l1])\n",
    "        vis[\"base_pivot_2\"].set_transform(np.dot(r_1, tf.translation_matrix([0.0, 0.0, _l1])))\n",
    "\n",
    "    ### link 2 ###\n",
    "        t_2 = np.dot(r_1, tf.translation_matrix([0.0, 0.0, _l1]))  # relative to origin\n",
    "        r_2 = tf.rotation_matrix(q[1], [0.0, 1.0, 0.0])\n",
    "        t2 = tf.translation_matrix([0.0, 0.0, _l2/2])\n",
    "\n",
    "        vis[\"pendulum_link_2\"].set_transform(np.dot(t_2, np.dot(r_2, t2)))\n",
    "        \n",
    "    time.sleep(dt)"
   ]
  },
  {
   "cell_type": "code",
   "execution_count": null,
   "id": "6034d35d-80e9-4530-ba1f-7ab61c70e481",
   "metadata": {},
   "outputs": [],
   "source": [
    "time = list(range(steps))"
   ]
  },
  {
   "cell_type": "code",
   "execution_count": null,
   "id": "3687842f-b116-4931-81ea-de725e0fff3c",
   "metadata": {},
   "outputs": [],
   "source": [
    "plt.plot(time, kinetic_list)\n",
    "SSplt.xlabel(\"Steps\")\n",
    "plt.ylabel(\"Kinetic energy (J)\")\n",
    "plt.title(\"Kinetic energy over steps\")"
   ]
  },
  {
   "cell_type": "code",
   "execution_count": null,
   "id": "5a72f941-f058-4c53-81ad-13f2c216c8e4",
   "metadata": {},
   "outputs": [],
   "source": [
    "plt.plot(time, potential_list)\n",
    "plt.xlabel(\"Steps\")\n",
    "plt.ylabel(\"Potential energy (J)\")\n",
    "plt.title(\"Potential Energy over Steps\")"
   ]
  },
  {
   "cell_type": "code",
   "execution_count": null,
   "id": "f981320d-e820-48fd-973c-54fb6ae9a15f",
   "metadata": {},
   "outputs": [],
   "source": [
    "E = (np.array(kinetic_list) + np.array(potential_list)).tolist()\n",
    "plt.plot(time, E)\n",
    "plt.title(\"Total Energy over Time using RK4\");"
   ]
  },
  {
   "cell_type": "code",
   "execution_count": null,
   "id": "402e65a7-f316-4019-90a8-e8931e1c2050",
   "metadata": {},
   "outputs": [],
   "source": [
    "threshold = 1e6\n",
    "\n",
    "for i in range(1, len(E)):\n",
    "    diff = abs(E[i] - E[i-1])\n",
    "    if math.isnan(E[i]) or diff > threshold:\n",
    "        print(f\"Anomaly at step {i}: value={E[i]}, diff from previous={diff}\")\n",
    "        break\n"
   ]
  }
 ],
 "metadata": {
  "kernelspec": {
   "display_name": "Python 3 (ipykernel)",
   "language": "python",
   "name": "python3"
  },
  "language_info": {
   "codemirror_mode": {
    "name": "ipython",
    "version": 3
   },
   "file_extension": ".py",
   "mimetype": "text/x-python",
   "name": "python",
   "nbconvert_exporter": "python",
   "pygments_lexer": "ipython3",
   "version": "3.13.5"
  }
 },
 "nbformat": 4,
 "nbformat_minor": 5
}
